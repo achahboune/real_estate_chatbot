{
 "cells": [
  {
   "cell_type": "markdown",
   "metadata": {},
   "source": [
    "# The imports"
   ]
  },
  {
   "cell_type": "code",
   "execution_count": 1,
   "metadata": {},
   "outputs": [],
   "source": [
    "import pandas as pd \n",
    "import google.generativeai as genai\n",
    "import json"
   ]
  },
  {
   "cell_type": "markdown",
   "metadata": {},
   "source": [
    "# Setting up the API key for gemini"
   ]
  },
  {
   "cell_type": "code",
   "execution_count": null,
   "metadata": {},
   "outputs": [],
   "source": [
    "genai.configure(api_key='YOUR_API_KEY')\n",
    "model = genai.GenerativeModel('models/gemini-2.0-flash-exp')"
   ]
  },
  {
   "cell_type": "markdown",
   "metadata": {},
   "source": [
    "# Reading the dataset"
   ]
  },
  {
   "cell_type": "code",
   "execution_count": 3,
   "metadata": {},
   "outputs": [],
   "source": [
    "df_read = pd.read_csv('real_estate_data.csv')"
   ]
  },
  {
   "cell_type": "markdown",
   "metadata": {},
   "source": [
    "# Consultation"
   ]
  },
  {
   "cell_type": "code",
   "execution_count": 4,
   "metadata": {},
   "outputs": [
    {
     "name": "stdout",
     "output_type": "stream",
     "text": [
      "<class 'pandas.core.frame.DataFrame'>\n",
      "RangeIndex: 200 entries, 0 to 199\n",
      "Data columns (total 6 columns):\n",
      " #   Column              Non-Null Count  Dtype \n",
      "---  ------              --------------  ----- \n",
      " 0   bedrooms            200 non-null    int64 \n",
      " 1   price               200 non-null    int64 \n",
      " 2   state               200 non-null    object\n",
      " 3   quality             200 non-null    int64 \n",
      " 4   size_in_meters      200 non-null    int64 \n",
      " 5   real_estate_number  200 non-null    object\n",
      "dtypes: int64(4), object(2)\n",
      "memory usage: 9.5+ KB\n"
     ]
    }
   ],
   "source": [
    "df_read.info()"
   ]
  },
  {
   "cell_type": "code",
   "execution_count": 5,
   "metadata": {},
   "outputs": [
    {
     "data": {
      "text/html": [
       "<div>\n",
       "<style scoped>\n",
       "    .dataframe tbody tr th:only-of-type {\n",
       "        vertical-align: middle;\n",
       "    }\n",
       "\n",
       "    .dataframe tbody tr th {\n",
       "        vertical-align: top;\n",
       "    }\n",
       "\n",
       "    .dataframe thead th {\n",
       "        text-align: right;\n",
       "    }\n",
       "</style>\n",
       "<table border=\"1\" class=\"dataframe\">\n",
       "  <thead>\n",
       "    <tr style=\"text-align: right;\">\n",
       "      <th></th>\n",
       "      <th>bedrooms</th>\n",
       "      <th>price</th>\n",
       "      <th>state</th>\n",
       "      <th>quality</th>\n",
       "      <th>size_in_meters</th>\n",
       "      <th>real_estate_number</th>\n",
       "    </tr>\n",
       "  </thead>\n",
       "  <tbody>\n",
       "    <tr>\n",
       "      <th>0</th>\n",
       "      <td>2</td>\n",
       "      <td>333249</td>\n",
       "      <td>Komaina</td>\n",
       "      <td>7</td>\n",
       "      <td>200</td>\n",
       "      <td>RE-1000</td>\n",
       "    </tr>\n",
       "    <tr>\n",
       "      <th>1</th>\n",
       "      <td>4</td>\n",
       "      <td>447481</td>\n",
       "      <td>PikPoun</td>\n",
       "      <td>1</td>\n",
       "      <td>287</td>\n",
       "      <td>RE-1001</td>\n",
       "    </tr>\n",
       "  </tbody>\n",
       "</table>\n",
       "</div>"
      ],
      "text/plain": [
       "   bedrooms   price    state  quality  size_in_meters real_estate_number\n",
       "0         2  333249  Komaina        7             200            RE-1000\n",
       "1         4  447481  PikPoun        1             287            RE-1001"
      ]
     },
     "execution_count": 5,
     "metadata": {},
     "output_type": "execute_result"
    }
   ],
   "source": [
    "df_read.head(2)"
   ]
  },
  {
   "cell_type": "code",
   "execution_count": 6,
   "metadata": {},
   "outputs": [
    {
     "name": "stdout",
     "output_type": "stream",
     "text": [
      "<class 'pandas.core.frame.DataFrame'>\n",
      "RangeIndex: 200 entries, 0 to 199\n",
      "Data columns (total 6 columns):\n",
      " #   Column              Non-Null Count  Dtype \n",
      "---  ------              --------------  ----- \n",
      " 0   bedrooms            200 non-null    int64 \n",
      " 1   price               200 non-null    int64 \n",
      " 2   state               200 non-null    object\n",
      " 3   quality             200 non-null    int64 \n",
      " 4   size_in_meters      200 non-null    int64 \n",
      " 5   real_estate_number  200 non-null    object\n",
      "dtypes: int64(4), object(2)\n",
      "memory usage: 9.5+ KB\n"
     ]
    }
   ],
   "source": [
    "df_read.info()"
   ]
  },
  {
   "cell_type": "markdown",
   "metadata": {},
   "source": [
    "# Prompt engeneering<br> and retrieving the filter <br>and the prompt type"
   ]
  },
  {
   "cell_type": "code",
   "execution_count": 7,
   "metadata": {},
   "outputs": [],
   "source": [
    "user_query = \"What are the real_estate numbers of the high quality houses in Komaina ?\"\n",
    "prompt1=f\"\"\"\n",
    "Task: Analyze the real estate query and extract filtering conditions.\n",
    "    \n",
    "    Available columns and their types:\n",
    "    - bedrooms (int): Number of bedrooms\n",
    "    - price (int): Price in dollars\n",
    "    - state (str): State name\n",
    "    - quality (int): Quality rating (1-10)\n",
    "    - size_in_meters (int): Size in square meters\n",
    "    - real_estate_number (str): Unique identifier\n",
    "\n",
    "User query: \"{user_query}\"\n",
    "Extract the available columns data and return them as a JSON file \n",
    "and a \"prompt_type\": One of [\"quality\", \"price\", \"general\"] \n",
    "Example response:\n",
    "    {{\n",
    "            \"bedrooms\": 2,\n",
    "            \"price\": [300000],\n",
    "            \"state\": \"Toulkana\"\n",
    "            \"prompt_type\": \"price\",\n",
    "    }};\n",
    "\n",
    "    Provide only the JSON response, no additional text.\n",
    "\"\"\"\n",
    "\n",
    "response = model.generate_content(prompt1)"
   ]
  },
  {
   "cell_type": "markdown",
   "metadata": {},
   "source": [
    "# Cleaning the filter to use"
   ]
  },
  {
   "cell_type": "code",
   "execution_count": 8,
   "metadata": {},
   "outputs": [],
   "source": [
    "def extract_json(response_text):\n",
    "    start_marker = \"```json\\n\"\n",
    "    end_marker = \"\\n```\"\n",
    "    \n",
    "    start = response_text.find(start_marker)\n",
    "    if start == -1:\n",
    "        raise ValueError(\"Start marker not found in the response.\")\n",
    "    \n",
    "    start += len(start_marker)\n",
    "    end = response_text.find(end_marker, start)\n",
    "    if end == -1:\n",
    "        raise ValueError(\"End marker not found in the response.\")\n",
    "    \n",
    "    json_content = response_text[start:end]\n",
    "    return json_content\n",
    "\n",
    "filter = extract_json(response.text)\n",
    "filtered_docs = json.loads(filter)"
   ]
  },
  {
   "cell_type": "markdown",
   "metadata": {},
   "source": [
    "# The filter"
   ]
  },
  {
   "cell_type": "code",
   "execution_count": 9,
   "metadata": {},
   "outputs": [
    {
     "data": {
      "text/plain": [
       "{'state': 'Komaina', 'quality': [7, 8, 9, 10], 'prompt_type': 'quality'}"
      ]
     },
     "execution_count": 9,
     "metadata": {},
     "output_type": "execute_result"
    }
   ],
   "source": [
    "filtered_docs"
   ]
  },
  {
   "cell_type": "markdown",
   "metadata": {},
   "source": [
    "# Filtering the dataset"
   ]
  },
  {
   "cell_type": "code",
   "execution_count": 10,
   "metadata": {},
   "outputs": [],
   "source": [
    "def apply_filter(df, filter_dict):\n",
    "    temp = df.copy()\n",
    "    for key, value in filter_dict.items():\n",
    "        if key in df.columns:\n",
    "            if key != 'quality' :\n",
    "                temp = temp[temp[key]==value]\n",
    "                \n",
    "            elif key =='quality':\n",
    "                temp = temp[temp['quality'].isin(value)]\n",
    "\n",
    "\n",
    "    return temp\n",
    "\n",
    "# Apply the filter\n",
    "filtered_df = apply_filter(df_read, filtered_docs)\n"
   ]
  },
  {
   "cell_type": "markdown",
   "metadata": {},
   "source": [
    "# Filtring the prompt type and assigning<br>the prompt and asking the LLM"
   ]
  },
  {
   "cell_type": "code",
   "execution_count": null,
   "metadata": {},
   "outputs": [
    {
     "name": "stdout",
     "output_type": "stream",
     "text": [
      "Okay, here's a professional and concise report on the real estate quality in Komaina, based on the provided data:\n",
      "\n",
      "**Real Estate Quality Analysis - Komaina**\n",
      "\n",
      "This report summarizes the quality of select properties in Komaina. Based on a quality scale where 10 is the highest, the following real estate numbers represent high-quality homes:\n",
      "\n",
      "*   **Quality 7:** RE-1000 and RE-1089\n",
      "*   **Quality 8:** RE-1106\n",
      "*   **Quality 9:** RE-1040, RE-1138, RE-1194\n",
      "*   **Quality 10:** RE-1109, RE-1140\n",
      "\n",
      "This indicates that several properties in Komaina achieve high quality scores, with the majority reaching a rating of 9 and 10.\n",
      "\n"
     ]
    }
   ],
   "source": [
    "if not filtered_df.empty:\n",
    "    if filtered_docs['prompt_type'] == 'quality':\n",
    "        prompt = f\"\"\"\n",
    "        Real Estate Quality Analysis Task\n",
    "            Original user query: \"{user_query}\"\n",
    "            Filtered data: \"{filtered_df}\"\n",
    "            Give the user a nice and short report of the quality from the retrieved \n",
    "            document in a very profesional way .\n",
    "        \"\"\"\n",
    "    elif filtered_docs['prompt_type'] == 'price':\n",
    "        prompt = f\"\"\"\n",
    "        Real Estate price Analysis Task\n",
    "            Original user query: \"{user_query}\"\n",
    "            Filtered data: \"{filtered_df}\"\n",
    "            Give the user a nice and short report of the price from the retrieved \n",
    "            document in a very profesional way .\n",
    "        \"\"\"\n",
    "    elif filtered_docs['prompt_type'] == 'general':\n",
    "        prompt = f\"\"\"\n",
    "        Real Estate general Analysis Task\n",
    "            Original user query: \"{user_query}\"\n",
    "            Filtered data: \"{filtered_df}\"\n",
    "            Give the user a nice and short report of the requirements of the user from \n",
    "            the retrieved document in a very profesional way .\n",
    "        \"\"\"\n",
    "    response = model.generate_content(prompt)\n",
    "    print(response.text)\n",
    "else :\n",
    "    print('The retrieved documents are empty')\n"
   ]
  },
  {
   "cell_type": "code",
   "execution_count": null,
   "metadata": {},
   "outputs": [],
   "source": []
  }
 ],
 "metadata": {
  "kernelspec": {
   "display_name": "Python 3",
   "language": "python",
   "name": "python3"
  },
  "language_info": {
   "codemirror_mode": {
    "name": "ipython",
    "version": 3
   },
   "file_extension": ".py",
   "mimetype": "text/x-python",
   "name": "python",
   "nbconvert_exporter": "python",
   "pygments_lexer": "ipython3",
   "version": "3.10.12"
  }
 },
 "nbformat": 4,
 "nbformat_minor": 2
}
